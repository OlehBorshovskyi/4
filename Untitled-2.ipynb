{
 "cells": [
  {
   "cell_type": "code",
   "execution_count": null,
   "metadata": {},
   "outputs": [],
   "source": [
    "%pip install numpy\n",
    "def homework(message):\n",
    "    print(\"\\n>>>>>\", message, \"\\n\")\n",
    "import numpy as np\n",
    "temperature = [20.1, 20.1, 20.2, 20.4]\n",
    "print(temperature)\n",
    "\n",
    "t1 = temperature * 5\n",
    "\n",
    "print(f\"При множенні на 5 маємо: {t1}\")\n",
    "homework(\"Чому маємо такий результат?\")\n",
    "\n",
    "t1 = [ x*5 for x in temperature] \n",
    "print(f\"Тепер отримаємо: {t1}\") \n",
    "homework(\"Чому тепер множення успішне?\")\n",
    "\n",
    "t2 = np.array(temperature)\n",
    "print(\"Масив з використанням методів NumPy\", t2)\n",
    "\n",
    "t3 = t2 * 5\n",
    "print(\"При множенні на 5 отримуємо:\", t3)"
   ]
  }
 ],
 "metadata": {
  "language_info": {
   "name": "python"
  }
 },
 "nbformat": 4,
 "nbformat_minor": 2
}
